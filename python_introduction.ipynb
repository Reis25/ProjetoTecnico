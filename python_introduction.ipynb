{
  "nbformat": 4,
  "nbformat_minor": 0,
  "metadata": {
    "colab": {
      "name": "python_introduction.ipynb",
      "provenance": [],
      "collapsed_sections": [],
      "authorship_tag": "ABX9TyPEK/wDFZrwwZ0nUlUOj/u6",
      "include_colab_link": true
    },
    "kernelspec": {
      "name": "python3",
      "display_name": "Python 3"
    },
    "language_info": {
      "name": "python"
    }
  },
  "cells": [
    {
      "cell_type": "markdown",
      "metadata": {
        "id": "view-in-github",
        "colab_type": "text"
      },
      "source": [
        "<a href=\"https://colab.research.google.com/github/Reis25/ProjetoTecnico/blob/main/python_introduction.ipynb\" target=\"_parent\"><img src=\"https://colab.research.google.com/assets/colab-badge.svg\" alt=\"Open In Colab\"/></a>"
      ]
    },
    {
      "cell_type": "markdown",
      "source": [
        "Python introduction \n",
        "\n",
        "tutorial python for beginners.\n"
      ],
      "metadata": {
        "id": "0_NdazFth0cb"
      }
    },
    {
      "cell_type": "code",
      "execution_count": null,
      "metadata": {
        "colab": {
          "base_uri": "https://localhost:8080/"
        },
        "id": "b7fwDYbdhjE5",
        "outputId": "0c1a6948-ef4e-440f-eac8-89a3d5d3ec22"
      },
      "outputs": [
        {
          "output_type": "stream",
          "name": "stdout",
          "text": [
            "Hello World\n"
          ]
        }
      ],
      "source": [
        "print(\"Hello World\")"
      ]
    },
    {
      "cell_type": "code",
      "source": [
        "# This is a comment.\n",
        "\n",
        "''' \n",
        "This code show text in output:\n",
        "print(\"Hello class)\n",
        "'''"
      ],
      "metadata": {
        "colab": {
          "base_uri": "https://localhost:8080/",
          "height": 35
        },
        "id": "d7Z51M8Bi4Tn",
        "outputId": "49cd5f15-4d2d-4d19-80d2-825a1c17d21d"
      },
      "execution_count": null,
      "outputs": [
        {
          "output_type": "execute_result",
          "data": {
            "text/plain": [
              "' \\nThis code show text in output:\\nprint(\"Hello class)\\n\\n'"
            ],
            "application/vnd.google.colaboratory.intrinsic+json": {
              "type": "string"
            }
          },
          "metadata": {},
          "execution_count": 2
        }
      ]
    },
    {
      "cell_type": "code",
      "source": [
        "# Math operation \n",
        "\n",
        "num1 = 5\n",
        "num2 = 10\n",
        "\n",
        "sum = num1 + num2\n",
        "subt = num1 - num2\n",
        "mult = num1*num2"
      ],
      "metadata": {
        "id": "qwp_4wBijV_Q"
      },
      "execution_count": null,
      "outputs": []
    },
    {
      "cell_type": "code",
      "source": [
        "print(sum)\n",
        "print(subt)\n",
        "print(mult)"
      ],
      "metadata": {
        "colab": {
          "base_uri": "https://localhost:8080/"
        },
        "id": "4u941f6AkXXF",
        "outputId": "396d9eca-565f-42d2-a6b9-68c5a0f8b41c"
      },
      "execution_count": null,
      "outputs": [
        {
          "output_type": "stream",
          "name": "stdout",
          "text": [
            "15\n",
            "-5\n",
            "50\n"
          ]
        }
      ]
    },
    {
      "cell_type": "code",
      "source": [
        "if(num1 > 25):\n",
        "  print(\"É maior\")\n",
        "  if(num1 > 4):\n",
        "    print(\"Reallmente é maior\")\n",
        "else:\n",
        "  print(\"é menor\")"
      ],
      "metadata": {
        "colab": {
          "base_uri": "https://localhost:8080/"
        },
        "id": "E7MvnMTmkpbh",
        "outputId": "2312d76e-7bd2-48b8-d591-c3a8f0111d7b"
      },
      "execution_count": null,
      "outputs": [
        {
          "output_type": "stream",
          "name": "stdout",
          "text": [
            "é menor\n"
          ]
        }
      ]
    },
    {
      "cell_type": "code",
      "source": [
        "n1 = 8 \n",
        "n2 = 8\n",
        "n3 = 10\n",
        "\n",
        "media = (n1 + n2 + n3)/3\n",
        "\n",
        "if (media > 7):\n",
        "  print(\"AP\")\n",
        "elif(media >6):\n",
        "  print(\"RE\")\n",
        "elif(media > 5):\n",
        "  print(\"Precisa melhorar\") \n",
        "else:\n",
        "  print(\"Reprovado\")"
      ],
      "metadata": {
        "colab": {
          "base_uri": "https://localhost:8080/"
        },
        "id": "aB8S7eXxl1Du",
        "outputId": "0dc0f068-c766-41c1-dcc9-052fd8e78975"
      },
      "execution_count": null,
      "outputs": [
        {
          "output_type": "stream",
          "name": "stdout",
          "text": [
            "AP\n"
          ]
        }
      ]
    },
    {
      "cell_type": "code",
      "source": [
        "# Function with return \n",
        "\n",
        "def divide(a, b): \n",
        "  if(b !=0):\n",
        "    return a/b\n",
        "  else:\n",
        "    return \"This operation it's not possible!\" "
      ],
      "metadata": {
        "id": "bXmAGcbxnDyx"
      },
      "execution_count": 18,
      "outputs": []
    },
    {
      "cell_type": "code",
      "source": [
        "divide(5, 2)"
      ],
      "metadata": {
        "colab": {
          "base_uri": "https://localhost:8080/"
        },
        "id": "dAl3y-c1n5kH",
        "outputId": "f1c111de-d24b-47b4-e104-a4c4d22503b8"
      },
      "execution_count": 21,
      "outputs": [
        {
          "output_type": "execute_result",
          "data": {
            "text/plain": [
              "2.5"
            ]
          },
          "metadata": {},
          "execution_count": 21
        }
      ]
    },
    {
      "cell_type": "code",
      "source": [
        "v = [25, 13, 47, 88, 99, 77, 22, 22, 345]"
      ],
      "metadata": {
        "id": "Y5xaeQ1coz7p"
      },
      "execution_count": 22,
      "outputs": []
    },
    {
      "cell_type": "code",
      "source": [
        "len(v)"
      ],
      "metadata": {
        "colab": {
          "base_uri": "https://localhost:8080/"
        },
        "id": "b7muH4rDqu4k",
        "outputId": "eec75971-38b3-4abe-ecdf-087c7781b617"
      },
      "execution_count": 33,
      "outputs": [
        {
          "output_type": "execute_result",
          "data": {
            "text/plain": [
              "9"
            ]
          },
          "metadata": {},
          "execution_count": 33
        }
      ]
    },
    {
      "cell_type": "code",
      "source": [
        "v[0:3]"
      ],
      "metadata": {
        "colab": {
          "base_uri": "https://localhost:8080/"
        },
        "id": "8x4P1XJwp7me",
        "outputId": "efd7bc84-3a5d-414c-a6da-2f98d700c648"
      },
      "execution_count": 40,
      "outputs": [
        {
          "output_type": "execute_result",
          "data": {
            "text/plain": [
              "[25, 47]"
            ]
          },
          "metadata": {},
          "execution_count": 40
        }
      ]
    },
    {
      "cell_type": "code",
      "source": [
        "max(v)"
      ],
      "metadata": {
        "colab": {
          "base_uri": "https://localhost:8080/"
        },
        "id": "2PP-GYO1o8jE",
        "outputId": "8fc27020-e827-4eb7-d67b-64074428c3e1"
      },
      "execution_count": 23,
      "outputs": [
        {
          "output_type": "execute_result",
          "data": {
            "text/plain": [
              "345"
            ]
          },
          "metadata": {},
          "execution_count": 23
        }
      ]
    },
    {
      "cell_type": "code",
      "source": [
        "min(v)"
      ],
      "metadata": {
        "colab": {
          "base_uri": "https://localhost:8080/"
        },
        "id": "3h86KScFpdgf",
        "outputId": "b44a0b58-707f-46a6-ec46-cea358c32c2a"
      },
      "execution_count": 24,
      "outputs": [
        {
          "output_type": "execute_result",
          "data": {
            "text/plain": [
              "13"
            ]
          },
          "metadata": {},
          "execution_count": 24
        }
      ]
    },
    {
      "cell_type": "code",
      "source": [
        "sorted(v)"
      ],
      "metadata": {
        "colab": {
          "base_uri": "https://localhost:8080/"
        },
        "id": "LbvnZGzoppHI",
        "outputId": "0c06978e-a42d-4956-cae2-c2872b372b3f"
      },
      "execution_count": 29,
      "outputs": [
        {
          "output_type": "execute_result",
          "data": {
            "text/plain": [
              "[13, 22, 22, 25, 47, 77, 88, 99, 345]"
            ]
          },
          "metadata": {},
          "execution_count": 29
        }
      ]
    },
    {
      "cell_type": "code",
      "source": [
        "name = [\"mell\", \"paulo\", \"john\", \"fabio\"]"
      ],
      "metadata": {
        "id": "Fv_78lmYrim0"
      },
      "execution_count": 41,
      "outputs": []
    },
    {
      "cell_type": "code",
      "source": [
        "sorted(name)"
      ],
      "metadata": {
        "colab": {
          "base_uri": "https://localhost:8080/"
        },
        "id": "MNoP-jhnrqmo",
        "outputId": "b2e38866-097f-45bf-ba8f-3b34aedf7d68"
      },
      "execution_count": 42,
      "outputs": [
        {
          "output_type": "execute_result",
          "data": {
            "text/plain": [
              "['fabio', 'john', 'mell', 'paulo']"
            ]
          },
          "metadata": {},
          "execution_count": 42
        }
      ]
    },
    {
      "cell_type": "code",
      "source": [
        "name[0:2]"
      ],
      "metadata": {
        "colab": {
          "base_uri": "https://localhost:8080/"
        },
        "id": "LLTlIZ7Qrzie",
        "outputId": "ea082e65-6c08-4cd0-f07b-7b7b8c1c9970"
      },
      "execution_count": 47,
      "outputs": [
        {
          "output_type": "execute_result",
          "data": {
            "text/plain": [
              "['mell', 'paulo']"
            ]
          },
          "metadata": {},
          "execution_count": 47
        }
      ]
    },
    {
      "cell_type": "code",
      "source": [
        "for i in name:\n",
        "  print(i)"
      ],
      "metadata": {
        "colab": {
          "base_uri": "https://localhost:8080/"
        },
        "id": "L9xaSgr3sFqC",
        "outputId": "c6b69683-70c6-4c30-ea06-94e0bc25d60d"
      },
      "execution_count": 51,
      "outputs": [
        {
          "output_type": "stream",
          "name": "stdout",
          "text": [
            "mell\n",
            "paulo\n",
            "john\n",
            "fabio\n"
          ]
        }
      ]
    },
    {
      "cell_type": "code",
      "source": [
        "cars = [\"palio\", \"argo\", \"S-10\", \"Mustang\"]\n",
        "\n",
        "for idx, i in enumerate(cars): \n",
        "  print(idx)\n",
        "  print(i)\n"
      ],
      "metadata": {
        "colab": {
          "base_uri": "https://localhost:8080/"
        },
        "id": "iEIAO85istjC",
        "outputId": "47bcb434-9474-4bf7-dc11-b5a12cc10b86"
      },
      "execution_count": 52,
      "outputs": [
        {
          "output_type": "stream",
          "name": "stdout",
          "text": [
            "0\n",
            "palio\n",
            "1\n",
            "argo\n",
            "2\n",
            "S-10\n",
            "3\n",
            "Mustang\n"
          ]
        }
      ]
    }
  ]
}