{
  "nbformat": 4,
  "nbformat_minor": 0,
  "metadata": {
    "colab": {
      "name": "python_introduction.ipynb",
      "provenance": [],
      "collapsed_sections": [],
      "authorship_tag": "ABX9TyMz7gJmvNV+Pe2b7BvKWN/p",
      "include_colab_link": true
    },
    "kernelspec": {
      "name": "python3",
      "display_name": "Python 3"
    },
    "language_info": {
      "name": "python"
    }
  },
  "cells": [
    {
      "cell_type": "markdown",
      "metadata": {
        "id": "view-in-github",
        "colab_type": "text"
      },
      "source": [
        "<a href=\"https://colab.research.google.com/github/Reis25/ProjetoTecnico/blob/main/python_introduction.ipynb\" target=\"_parent\"><img src=\"https://colab.research.google.com/assets/colab-badge.svg\" alt=\"Open In Colab\"/></a>"
      ]
    },
    {
      "cell_type": "markdown",
      "source": [
        "# Python Introduction \n",
        "\n",
        "In this tutotial let's code in python for beginners. "
      ],
      "metadata": {
        "id": "8v54x-g0P7gZ"
      }
    },
    {
      "cell_type": "markdown",
      "source": [
        "Python Roadmap: \n",
        "\n",
        "Tools:\n",
        "* Vscode \n",
        "* PyCharm\n",
        "* Jupyter Notebook\n",
        "\n",
        "Basic: \n",
        "\n",
        "* Data types\n",
        "* Typecasting\n",
        "* Operators\n",
        "* Data strutures \n",
        "* Conditional statements\n",
        "* Loops\n",
        "* Functions \n",
        "\n",
        "OOP:\n",
        "* Classes\n",
        "* Objects\n",
        "* Lambda\n",
        "* Inheritance\n",
        "* Reflextion\n",
        "* OOPS\n",
        "\n",
        "Python + Git \n",
        "* Git version control \n",
        "* Linux Comans\n",
        "* File and Exception Handling\n"
      ],
      "metadata": {
        "id": "X6SEwJxKXY7G"
      }
    },
    {
      "cell_type": "code",
      "execution_count": null,
      "metadata": {
        "colab": {
          "base_uri": "https://localhost:8080/"
        },
        "id": "tIJ1cwccPI7z",
        "outputId": "7c021e92-83d4-4caf-e828-fde3e6a86fb7"
      },
      "outputs": [
        {
          "output_type": "stream",
          "name": "stdout",
          "text": [
            "Hello Wolrd\n"
          ]
        }
      ],
      "source": [
        "# This code show text in output: \n",
        "print(\"Hello World\")"
      ]
    },
    {
      "cell_type": "code",
      "source": [
        "# This is a comment;\n",
        "\n",
        "''' \n",
        "Fazendo comentários \n",
        "em múltiplas linhas\n",
        "'''"
      ],
      "metadata": {
        "id": "jDeoCPsnBFuK"
      },
      "execution_count": null,
      "outputs": []
    },
    {
      "cell_type": "code",
      "source": [
        "# Maths operators \n",
        "num1 = 5 \n",
        "num2 = 10 \n",
        "\n",
        "sum = num1 + num2\n",
        "subt = num1 - num2\n",
        "mult = num1*num2"
      ],
      "metadata": {
        "id": "QgJhgD1WSK2f"
      },
      "execution_count": null,
      "outputs": []
    },
    {
      "cell_type": "code",
      "source": [
        "# show de output math opeators: \n",
        "print(sum)\n",
        "print(subt)\n",
        "print(mult)"
      ],
      "metadata": {
        "id": "_AkyZNWMVMmp"
      },
      "execution_count": null,
      "outputs": []
    },
    {
      "cell_type": "markdown",
      "source": [
        "Function in python:  \n"
      ],
      "metadata": {
        "id": "nrkCUjzWQRbI"
      }
    },
    {
      "cell_type": "code",
      "source": [
        "#Fuction with return:\n",
        "\n",
        "def divide(a, b): \n",
        "  if b!= 0: \n",
        "    return a/b\n",
        "  else:\n",
        "    return \"this operation it's not possible.\""
      ],
      "metadata": {
        "id": "By_D0VP5QXtu"
      },
      "execution_count": null,
      "outputs": []
    },
    {
      "cell_type": "code",
      "source": [
        "# function call\n",
        "divide(35,7)"
      ],
      "metadata": {
        "colab": {
          "base_uri": "https://localhost:8080/"
        },
        "id": "P8DM6Q3eQlEH",
        "outputId": "979f413a-361f-45ef-cc9f-7069bf63c20b"
      },
      "execution_count": null,
      "outputs": [
        {
          "output_type": "execute_result",
          "data": {
            "text/plain": [
              "14"
            ]
          },
          "metadata": {},
          "execution_count": 3
        }
      ]
    },
    {
      "cell_type": "code",
      "source": [
        "# function call\n",
        "divide(35,0)"
      ],
      "metadata": {
        "id": "aSTQoYLg-Dha"
      },
      "execution_count": null,
      "outputs": []
    },
    {
      "cell_type": "code",
      "source": [
        "v = [25, 35, 24, 13, 46, 78,80, 96]"
      ],
      "metadata": {
        "id": "b-teWav7DJo3"
      },
      "execution_count": null,
      "outputs": []
    },
    {
      "cell_type": "code",
      "source": [
        "max(v)"
      ],
      "metadata": {
        "id": "JaKwPAtuDPtm"
      },
      "execution_count": null,
      "outputs": []
    },
    {
      "cell_type": "code",
      "source": [
        "min(v)"
      ],
      "metadata": {
        "id": "tlkUnrm9DR20"
      },
      "execution_count": null,
      "outputs": []
    },
    {
      "cell_type": "code",
      "source": [
        "sort(v)"
      ],
      "metadata": {
        "id": "KUFws1qLDTxv"
      },
      "execution_count": null,
      "outputs": []
    },
    {
      "cell_type": "code",
      "source": [
        "# repetition structure \n",
        "for i in range(0,10): \n",
        "  print()"
      ],
      "metadata": {
        "id": "ny-SLEQCDcQ9"
      },
      "execution_count": null,
      "outputs": []
    },
    {
      "cell_type": "code",
      "source": [
        "cars = [\"palio\", \"corsa\", \"Mustang\", \"Argo\", \"S-10\"]\n",
        "\n",
        "for idx, i in enumerate(cars):\n",
        "  print(idx)\n",
        "  print(i)\n"
      ],
      "metadata": {
        "id": "Ke6UltiAEuVf"
      },
      "execution_count": null,
      "outputs": []
    },
    {
      "cell_type": "code",
      "source": [
        "numero = 4\n",
        "#placeholder with pass\n",
        "if(numero == 5):\n",
        "  pass\n",
        "else: \n",
        "  print(\"O numero é diferente de 5!\") "
      ],
      "metadata": {
        "colab": {
          "base_uri": "https://localhost:8080/"
        },
        "id": "pM-MPv-XoO8L",
        "outputId": "4f6ff9bd-1113-4cd2-a57e-23e4628229e5"
      },
      "execution_count": null,
      "outputs": [
        {
          "output_type": "stream",
          "name": "stdout",
          "text": [
            "O numero é diferente de 5!\n"
          ]
        }
      ]
    },
    {
      "cell_type": "code",
      "source": [
        "numero = 4\n",
        "#placeholder with elipse \n",
        "if(numero == 5):\n",
        "  ...\n",
        "else: \n",
        "  print(\"O numero é diferente de 5!\") "
      ],
      "metadata": {
        "colab": {
          "base_uri": "https://localhost:8080/"
        },
        "id": "qOxFNdcQpvAB",
        "outputId": "66041dca-da6b-48c2-d957-bdf5c26e7132"
      },
      "execution_count": null,
      "outputs": [
        {
          "output_type": "stream",
          "name": "stdout",
          "text": [
            "O numero é diferente de 5!\n"
          ]
        }
      ]
    },
    {
      "cell_type": "code",
      "source": [
        "# Tuple: \n",
        "\n",
        "t1 = (1,2,5,7,8,9)\n",
        "\n",
        "l1 = [1,2,5,7,8,9]\n",
        "\n",
        "for i in range(0, len(l1)): \n",
        "  l1[i] = l1[i]*5\n",
        "\n",
        "print(t1 + t1)"
      ],
      "metadata": {
        "colab": {
          "base_uri": "https://localhost:8080/"
        },
        "id": "IkcGN-0KvK93",
        "outputId": "6da6c3b3-2f24-4fdb-ee4b-ab7889e8f23c"
      },
      "execution_count": null,
      "outputs": [
        {
          "output_type": "stream",
          "name": "stdout",
          "text": [
            "(1, 2, 5, 7, 8, 9, 1, 2, 5, 7, 8, 9)\n"
          ]
        }
      ]
    },
    {
      "cell_type": "code",
      "source": [
        "num1 = input(\"name: \")\n",
        "num2 = input()\n",
        "\n",
        "sum = num1 + \" \" + num2\n",
        "\n",
        "print(\"Seu nome é: \" ,sum)"
      ],
      "metadata": {
        "id": "EYKwOmxOHsdT"
      },
      "execution_count": null,
      "outputs": []
    },
    {
      "cell_type": "code",
      "source": [
        "# Listas\n",
        "\n",
        "# Criando uma lista vazia: \n",
        "lista =[]\n",
        "print(\"Criando uma lista vazia: \", lista)\n",
        "\n",
        "# Criando uma lista com valores: \n",
        "lista = [88, 99, 100, 101, 52, 47, 63, 21]\n",
        "print(\"Lista criada com valores: \", lista)\n",
        "\n",
        "# Substituindo um valor na nossa lista: \n",
        "lista[1] = 5\n",
        "print(\"Substituindo valor na lista:\", lista)\n",
        "\n",
        "# Acessando um valor da lista: \n",
        "print(\"Acesando o quarto valor da nossa lista: \",lista[3])\n",
        "\n",
        "# Acessando o último valor de uma lista:\n",
        "print(\"O último valor é: \", lista[-1])\n",
        "\n",
        "# Selecionando um intervalo da nossa lista: \n",
        "print(\"Extraindo itervalo: \", lista[1:4])\n",
        "\n",
        "# Usando valores com índice negativo: \n",
        "print(\"O valor é: \", lista[-3])\n",
        "\n",
        "# Removendo um valor da nossa lista: \n",
        "del lista[5]\n",
        "print(\"lista com valor removido: \", lista)\n",
        "\n",
        "# Adicionando um valor no final da lista: \n",
        "lista.append(101)\n",
        "print(\"Adicionando numero no final da lista: \", lista)\n",
        "\n",
        "# Adiconar na posição z um valor x => lista.insert(z, x)\n",
        "lista.insert(0,1500)\n",
        "print(\"Adiconar na posição z um valor x: \", lista)\n",
        "\n",
        "# Removendo o primeiro elemento de um dado numero: \n",
        "lista.remove(101)\n",
        "print(\"Removendo um dado específico: \", lista)\n",
        "\n",
        "# Ordenando os valores dessa lista: \n",
        "lista.sort()\n",
        "print(\"Lista ordenada crescente: \", lista)\n",
        "\n",
        "# Ordenar a lista de forma reversa: \n",
        "lista.reverse()\n",
        "print(\"Lista ordenada decrescente: \", lista)\n",
        "\n",
        "# copiando uma lista: \n",
        "lista_2 = lista.copy()\n",
        "print(\"Lista copiada: \", lista_2)\n",
        "\n",
        "#Removendo um elemento e recebendo o lemento removido: \n",
        "result = lista.pop(0)\n",
        "print(\"Qual foi o elemento removido? \", result)\n",
        "print(lista)\n",
        "\n",
        "# Limpando uma lista\n",
        "lista.clear()\n",
        "print(\"Lista final é:\", lista)"
      ],
      "metadata": {
        "colab": {
          "base_uri": "https://localhost:8080/"
        },
        "id": "b-qDyMrsKMVQ",
        "outputId": "42f693c3-2a28-4183-c946-21e015244f75"
      },
      "execution_count": null,
      "outputs": [
        {
          "output_type": "stream",
          "name": "stdout",
          "text": [
            "Criando uma lista vazia:  []\n",
            "Lista criada com valores:  [88, 99, 100, 101, 52, 47, 63, 21]\n",
            "Substituindo valor na lista: [88, 5, 100, 101, 52, 47, 63, 21]\n",
            "Acesando o quarto valor da nossa lista:  101\n",
            "O último valor é:  21\n",
            "Extraindo itervalo:  [5, 100, 101]\n",
            "O valor é:  47\n",
            "lista com valor removido:  [88, 5, 100, 101, 52, 63, 21]\n",
            "Adicionando numero no final da lista:  [88, 5, 100, 101, 52, 63, 21, 101]\n",
            "Adiconar na posição z um valor x:  [1500, 88, 5, 100, 101, 52, 63, 21, 101]\n",
            "Removendo um dado específico:  [1500, 88, 5, 100, 52, 63, 21, 101]\n",
            "Lista ordenada crescente:  [5, 21, 52, 63, 88, 100, 101, 1500]\n",
            "Lista ordenada decrescente:  [1500, 101, 100, 88, 63, 52, 21, 5]\n",
            "Lista copiada:  [1500, 101, 100, 88, 63, 52, 21, 5]\n",
            "Qual foi o elemento removido?  1500\n",
            "[101, 100, 88, 63, 52, 21, 5]\n",
            "Lista final é: []\n"
          ]
        }
      ]
    },
    {
      "cell_type": "code",
      "source": [
        ""
      ],
      "metadata": {
        "id": "T9o_vJT07Gc4"
      },
      "execution_count": null,
      "outputs": []
    }
  ]
}